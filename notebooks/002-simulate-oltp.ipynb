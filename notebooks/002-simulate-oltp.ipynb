{
 "cells": [
  {
   "cell_type": "markdown",
   "metadata": {},
   "source": [
    "### In this notebook, we will upload huggingface dataset to OLTP (Postgres in this context) and also use it as OLAP Bronze Zone (just for simple)"
   ]
  },
  {
   "cell_type": "markdown",
   "metadata": {},
   "source": [
    "### Set up"
   ]
  },
  {
   "cell_type": "code",
   "execution_count": 1,
   "metadata": {},
   "outputs": [],
   "source": [
    "import os\n",
    "import sys\n",
    "\n",
    "import datasets\n",
    "import pandas as pd\n",
    "import plotly.express as px\n",
    "from datasets import load_dataset\n",
    "from dotenv import load_dotenv\n",
    "from loguru import logger\n",
    "from pydantic import BaseModel\n",
    "from sqlalchemy import create_engine\n",
    "\n",
    "sys.path.insert(0, \"..\")\n",
    "\n",
    "import src.visualization.setup\n",
    "from src.utils.data_prep import parse_dt\n",
    "\n",
    "load_dotenv(\"../.env\")\n",
    "datasets.logging.set_verbosity_error()"
   ]
  },
  {
   "cell_type": "markdown",
   "metadata": {},
   "source": [
    "### Controller"
   ]
  },
  {
   "cell_type": "code",
   "execution_count": null,
   "metadata": {},
   "outputs": [],
   "source": [
    "class Args(BaseModel):\n",
    "    run_name: str = \"000-prep-data\"\n",
    "    testing: bool = True\n",
    "    notebook_persist_dp: str = None\n",
    "    random_seed: int = 41\n",
    "\n",
    "    train_fp: str = \"../../data/train.parquet\"\n",
    "    val_fp: str = \"../../data/val.parquet\"\n",
    "\n",
    "    user_col: str = \"user_id\"\n",
    "    item_col: str = \"parent_asin\"\n",
    "    rating_col: str = \"rating\"\n",
    "    timestamp_col: str = \"timestamp\"\n",
    "\n",
    "    # Number of days left out not being pushed into the OLTP so that later we can simulate having them as new data\n",
    "    num_days_holdout: int = 30\n",
    "    holdout_fp: str = \"../../data/holdout.parquet\"\n",
    "\n",
    "    # Output PostgreSQL table\n",
    "    table_name: str = \"amz_review_rating_raw\"\n",
    "\n",
    "    def init(self):\n",
    "        self.notebook_persist_dp = os.path.abspath(f\"data/{self.run_name}\")\n",
    "        if not self.testing:\n",
    "            os.makedirs(self.notebook_persist_dp, exist_ok=True)\n",
    "\n",
    "        return self\n",
    "\n",
    "\n",
    "args = Args().init()\n",
    "\n",
    "print(args.model_dump_json(indent=2))"
   ]
  }
 ],
 "metadata": {
  "kernelspec": {
   "display_name": "Python 3",
   "language": "python",
   "name": "python3"
  },
  "language_info": {
   "codemirror_mode": {
    "name": "ipython",
    "version": 3
   },
   "file_extension": ".py",
   "mimetype": "text/x-python",
   "name": "python",
   "nbconvert_exporter": "python",
   "pygments_lexer": "ipython3",
   "version": "3.11.9"
  }
 },
 "nbformat": 4,
 "nbformat_minor": 2
}
